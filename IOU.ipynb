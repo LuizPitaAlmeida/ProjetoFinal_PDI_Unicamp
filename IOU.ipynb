{
 "cells": [
  {
   "cell_type": "code",
   "execution_count": 2,
   "metadata": {},
   "outputs": [],
   "source": [
    "%matplotlib inline\n",
    "import numpy as np\n",
    "import cv2\n",
    "from matplotlib import pyplot as plt"
   ]
  },
  {
   "cell_type": "code",
   "execution_count": 3,
   "metadata": {},
   "outputs": [],
   "source": [
    "# READ PATHS\n",
    "# Get prediction bounding boxes\n",
    "prediction_path = '../../../Unicamp_PDI/resultados.txt'#'../AB1_BC1_result.txt' #results/ab1/AB1_CONTOUR_OTSU.txt' # caminho para a pasta \n",
    "prediction = []\n",
    "F = open(prediction_path,'r')\n",
    "for line in F.readlines():\n",
    "    name = line.split()[0]\n",
    "    bbox = np.array(line.split()[1:],'int')\n",
    "    prediction.append(np.hstack((name,bbox)))\n",
    "F.close()\n",
    "# Get ground truth bounding boxes\n",
    "ground_truth_path = '../all_plates_position.txt' # caminho para a pasta \n",
    "ground_truth = []\n",
    "F = open(ground_truth_path,'r')\n",
    "for line in F.readlines():\n",
    "    name = line.split()[0]\n",
    "    bbox = np.array(line.split()[1:],'int')\n",
    "    ground_truth.append(np.hstack((name,bbox)))\n",
    "F.close()"
   ]
  },
  {
   "cell_type": "code",
   "execution_count": 4,
   "metadata": {},
   "outputs": [
    {
     "name": "stdout",
     "output_type": "stream",
     "text": [
      "Prediction\n",
      "Number of plates =  2000\n",
      "[array(['69[04', '376', '697', '96', '26'], dtype='|S21'), array(['69[01', '424', '680', '103', '24'], dtype='|S21'), array(['69[06', '340', '709', '110', '27'], dtype='|S21'), array(['69[15', '1077', '1047', '86', '33'], dtype='|S21'), array(['69[13', '1273', '96', '101', '35'], dtype='|S21')]\n",
      "Ground Truth\n",
      "Number of plates =  2000\n",
      "[array(['69[04', '382', '698', '113', '37'], dtype='|S21'), array(['69[02', '416', '688', '105', '35'], dtype='|S21'), array(['69[01', '430', '684', '107', '31'], dtype='|S21'), array(['69[14', '164', '776', '141', '47'], dtype='|S21'), array(['69[17', '64', '818', '165', '51'], dtype='|S21')]\n"
     ]
    }
   ],
   "source": [
    "# Looking for vector\n",
    "print 'Prediction'\n",
    "print 'Number of plates = ', len(prediction)\n",
    "print prediction[0:5]\n",
    "print 'Ground Truth'\n",
    "print 'Number of plates = ', len(prediction)\n",
    "print ground_truth[0:5]"
   ]
  },
  {
   "cell_type": "code",
   "execution_count": 5,
   "metadata": {},
   "outputs": [],
   "source": [
    "def sortlist(char,elem):\n",
    "    xs = []\n",
    "    for array in char:\n",
    "        xs.append(array[elem])\n",
    "    xs = np.array(xs)\n",
    "    ind = np.argsort(xs)\n",
    "    temp = np.array(char)\n",
    "    return temp[ind]\n",
    "\n",
    "#Define auxiliary IoU fuctions\n",
    "def calc_intersection_area(preditic_bbox,groundTruth_bbox):\n",
    "    # convert prediction bbox to two points rect representation\n",
    "    xp1 = preditic_bbox[0]\n",
    "    yp1 = preditic_bbox[1]\n",
    "    xp2 = preditic_bbox[0]+preditic_bbox[2]\n",
    "    yp2 = preditic_bbox[1]+preditic_bbox[3]\n",
    "    \n",
    "    # convert Ground Truth bbox to two points rect representation\n",
    "    xg1 = groundTruth_bbox[0]\n",
    "    yg1 = groundTruth_bbox[1]\n",
    "    xg2 = groundTruth_bbox[0]+groundTruth_bbox[2]\n",
    "    yg2 = groundTruth_bbox[1]+groundTruth_bbox[3]\n",
    "    \n",
    "    # determine the coordinates of the intersection rectangle\n",
    "    x_left = max(xp1, xg1)\n",
    "    y_top = max(yp1, yg1)\n",
    "    x_right = min(xp2, xg2)\n",
    "    y_bottom = min(yp2, yg2)\n",
    "\n",
    "    # verify \n",
    "    if x_right < x_left or y_bottom < y_top:\n",
    "        return 0.0\n",
    "    \n",
    "    return (x_right - x_left) * (y_bottom - y_top)\n",
    "\n",
    "def calc_union_area(preditic_bbox,groundTruth_bbox,intersection_Area):\n",
    "    prediction_Area = preditic_bbox[2]*preditic_bbox[3]\n",
    "    groundTruth_Area = groundTruth_bbox[2]*groundTruth_bbox[3]\n",
    "    return prediction_Area + groundTruth_Area - intersection_Area\n",
    "    \n",
    "#Define IoU fuction\n",
    "def calc_IoU(preditic_bbox,groundTruth_bbox):\n",
    "    Aint = calc_intersection_area(preditic_bbox,groundTruth_bbox)\n",
    "    Auni = calc_union_area(preditic_bbox,groundTruth_bbox,Aint)\n",
    "    return 1.0 * Aint/Auni"
   ]
  },
  {
   "cell_type": "code",
   "execution_count": 6,
   "metadata": {},
   "outputs": [
    {
     "name": "stdout",
     "output_type": "stream",
     "text": [
      "['00[01' '539' '659' '99' '35'] ['00[01' '538' '660' '99' '33']\n",
      "['17[22' '214' '832' '148' '51'] ['17[22' '226' '838' '135' '41']\n",
      "['27[12' '1512' '694' '122' '40'] ['27[12' '1512' '690' '119' '43']\n",
      "['38[08' '647' '992' '200' '88'] ['38[08' '434' '668' '105' '35']\n",
      "['48[12' '415' '705' '116' '40'] ['48[12' '414' '702' '117' '43']\n",
      "['58[19' '1656' '778' '141' '50'] ['58[19' '1663' '781' '132' '46']\n",
      "['69[07' '321' '715' '144' '29'] ['69[07' '328' '720' '119' '37']\n",
      "['79[04' '476' '690' '127' '39'] ['79[04' '484' '694' '103' '35']\n",
      "['88[10' '63' '377' '100' '32'] ['88[10' '1538' '756' '147' '53']\n",
      "['98[19' '1633' '722' '118' '43'] ['98[19' '1632' '720' '117' '43']\n"
     ]
    }
   ],
   "source": [
    "s_pred = sortlist(prediction, 0)\n",
    "s_groundTruth = sortlist(ground_truth,0)\n",
    "\n",
    "for i in range(0,2000,200):\n",
    "    print s_pred[i], s_groundTruth[i]"
   ]
  },
  {
   "cell_type": "code",
   "execution_count": 7,
   "metadata": {},
   "outputs": [
    {
     "name": "stdout",
     "output_type": "stream",
     "text": [
      "IOU result =  73.35 %\n"
     ]
    }
   ],
   "source": [
    "iou_scores = []\n",
    "thr = 0.5\n",
    "iou_rst = 0\n",
    "for i in range(len(s_groundTruth)):\n",
    "    score = calc_IoU(s_pred[i][1:].astype(int),s_groundTruth[i][1:].astype(int))\n",
    "    #print s_pred[i][1:].astype(int)\n",
    "    iou_scores.append(score)\n",
    "    if(score >= thr):\n",
    "        iou_rst += 1\n",
    "print 'IOU result = ',iou_rst/20.0,'%'"
   ]
  },
  {
   "cell_type": "code",
   "execution_count": 8,
   "metadata": {},
   "outputs": [
    {
     "name": "stdout",
     "output_type": "stream",
     "text": [
      "WRONG =  25.0 %\n",
      "POOR =  8.2 %\n",
      "GOOD =  43.95 %\n",
      "EXCELLENT =  22.85 %\n"
     ]
    }
   ],
   "source": [
    "poor = 0\n",
    "good = 0\n",
    "excellent = 0\n",
    "wrong = 0\n",
    "for scr in iou_scores:\n",
    "    if(scr <= 0):\n",
    "        wrong += 1\n",
    "    elif scr < 0.7:\n",
    "        poor += 1\n",
    "    elif scr < 0.9:\n",
    "        good += 1\n",
    "    else:\n",
    "        excellent += 1\n",
    "print 'WRONG = ',wrong/20.0,'%'\n",
    "print 'POOR = ',poor/20.0,'%'\n",
    "print 'GOOD = ',good/20.0,'%'\n",
    "print 'EXCELLENT = ',excellent/20.0,'%'"
   ]
  },
  {
   "cell_type": "code",
   "execution_count": null,
   "metadata": {},
   "outputs": [],
   "source": []
  }
 ],
 "metadata": {
  "kernelspec": {
   "display_name": "Python 3",
   "language": "python",
   "name": "python3"
  },
  "language_info": {
   "codemirror_mode": {
    "name": "ipython",
    "version": 2
   },
   "file_extension": ".py",
   "mimetype": "text/x-python",
   "name": "python",
   "nbconvert_exporter": "python",
   "pygments_lexer": "ipython2",
   "version": "2.7.12"
  }
 },
 "nbformat": 4,
 "nbformat_minor": 2
}
